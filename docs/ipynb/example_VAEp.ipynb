{
 "cells": [
  {
   "attachments": {},
   "cell_type": "markdown",
   "metadata": {},
   "source": [
    "# Example of a VAE model with prediction"
   ]
  },
  {
   "attachments": {},
   "cell_type": "markdown",
   "metadata": {},
   "source": [
    "This example demonstrates how to build a VAE model with prediction using the method `VAE.models.VAEp`."
   ]
  },
  {
   "cell_type": "code",
   "execution_count": 1,
   "metadata": {},
   "outputs": [],
   "source": [
    "from tensorflow.keras.utils import plot_model\n",
    "\n",
    "from VAE.models import Encoder, LatentSampling, Decoder, VAEp\n",
    "from VAE.utils import collection"
   ]
  },
  {
   "attachments": {},
   "cell_type": "markdown",
   "metadata": {},
   "source": [
    "We first define the parameters of the model:"
   ]
  },
  {
   "cell_type": "code",
   "execution_count": 2,
   "metadata": {},
   "outputs": [],
   "source": [
    "params = {\n",
    "    'encoder_blocks': 1,\n",
    "    'cond_size': 12,\n",
    "    'fc_units': 48,\n",
    "    'filters': 16,\n",
    "    'input_shape': [16, 7],\n",
    "    'latent_dim': 10,\n",
    "    'trainable': ['*bn*'],\n",
    "    'prediction_shape': [16, 1],\n",
    "}"
   ]
  },
  {
   "attachments": {},
   "cell_type": "markdown",
   "metadata": {},
   "source": [
    "Then we build the different parts of the model. We start with the encoder:\n"
   ]
  },
  {
   "cell_type": "code",
   "execution_count": 3,
   "metadata": {},
   "outputs": [],
   "source": [
    "encoder = Encoder(**params, name='encoder')"
   ]
  },
  {
   "attachments": {},
   "cell_type": "markdown",
   "metadata": {},
   "source": [
    "and the latent sampling layer:\n"
   ]
  },
  {
   "cell_type": "code",
   "execution_count": 4,
   "metadata": {},
   "outputs": [],
   "source": [
    "latent_sampling = LatentSampling(**params, name='latent')"
   ]
  },
  {
   "attachments": {},
   "cell_type": "markdown",
   "metadata": {},
   "source": [
    "Then we build the decoder:\n"
   ]
  },
  {
   "cell_type": "code",
   "execution_count": 5,
   "metadata": {},
   "outputs": [],
   "source": [
    "decoder = Decoder(output_shape=params['input_shape'],\n",
    "                  decoder_blocks=params['encoder_blocks'],\n",
    "                  output_reverse=True,\n",
    "                  **params,\n",
    "                  name='decoder')"
   ]
  },
  {
   "attachments": {},
   "cell_type": "markdown",
   "metadata": {},
   "source": [
    "and a second decoder for the prediction:"
   ]
  },
  {
   "cell_type": "code",
   "execution_count": 6,
   "metadata": {},
   "outputs": [],
   "source": [
    "prediction = Decoder(output_shape=params['prediction_shape'],\n",
    "                     decoder_blocks=params['encoder_blocks'],\n",
    "                     output_reverse=False,\n",
    "                     **params,\n",
    "                     name='prediction')"
   ]
  },
  {
   "attachments": {},
   "cell_type": "markdown",
   "metadata": {},
   "source": [
    "Once we have the different parts of the model, we can build the full model:\n"
   ]
  },
  {
   "cell_type": "code",
   "execution_count": 7,
   "metadata": {},
   "outputs": [],
   "source": [
    "model = VAEp(encoder, decoder, latent_sampling, prediction, **params, name='VAEp')"
   ]
  },
  {
   "attachments": {},
   "cell_type": "markdown",
   "metadata": {},
   "source": [
    "Let's have a look at the model:\n"
   ]
  },
  {
   "cell_type": "code",
   "execution_count": 8,
   "metadata": {},
   "outputs": [
    {
     "name": "stdout",
     "output_type": "stream",
     "text": [
      "Model: \"VAEp\"\n",
      "__________________________________________________________________________________________________\n",
      "Layer (type)                    Output Shape         Param #     Connected to                     \n",
      "==================================================================================================\n",
      "encoder_input (InputLayer)      [(None, 1, 16, 7)]   0                                            \n",
      "__________________________________________________________________________________________________\n",
      "encoder_cond (InputLayer)       [(None, 1, 12)]      0                                            \n",
      "__________________________________________________________________________________________________\n",
      "encoder (Functional)            [(None, 10), (None,  16496       encoder_input[0][0]              \n",
      "                                                                 encoder_cond[0][0]               \n",
      "__________________________________________________________________________________________________\n",
      "latent (Functional)             (None, 1, 10)        0           encoder[0][0]                    \n",
      "                                                                 encoder[0][1]                    \n",
      "__________________________________________________________________________________________________\n",
      "decoder_cond (InputLayer)       [(None, 1, 12)]      0                                            \n",
      "__________________________________________________________________________________________________\n",
      "prediction_cond (InputLayer)    [(None, 1, 12)]      0                                            \n",
      "__________________________________________________________________________________________________\n",
      "decoder (Functional)            (None, 1, 16, 7)     16243       latent[0][0]                     \n",
      "                                                                 decoder_cond[0][0]               \n",
      "__________________________________________________________________________________________________\n",
      "prediction (Functional)         (None, 1, 16, 1)     16117       latent[0][0]                     \n",
      "                                                                 prediction_cond[0][0]            \n",
      "==================================================================================================\n",
      "Total params: 48,856\n",
      "Trainable params: 222\n",
      "Non-trainable params: 48,634\n",
      "__________________________________________________________________________________________________\n"
     ]
    }
   ],
   "source": [
    "model.summary()"
   ]
  },
  {
   "attachments": {},
   "cell_type": "markdown",
   "metadata": {},
   "source": [
    "We can also have a look at the trainable parameters:\n"
   ]
  },
  {
   "cell_type": "code",
   "execution_count": 9,
   "metadata": {},
   "outputs": [
    {
     "name": "stdout",
     "output_type": "stream",
     "text": [
      "________________________________________________________________________________\n",
      "Layer                                    Type                           # params\n",
      "================================================================================\n",
      "VAEp                                     Functional                          222\n",
      "________________________________________________________________________________\n",
      "  encoder                                Functional                           78\n",
      "    encoder_input_bn                     BatchNormalization                   14\n",
      "    encoder_block_1                      Functional                           64\n",
      "      encoder_block_1_R1_bn1             BatchNormalization                   32\n",
      "      encoder_block_1_R1_bn2             BatchNormalization                   32\n",
      "________________________________________________________________________________\n",
      "  decoder                                Functional                           78\n",
      "    decoder_block_1                      Functional                           64\n",
      "      decoder_block_1_R1_bn1             BatchNormalization                   32\n",
      "      decoder_block_1_R1_bn2             BatchNormalization                   32\n",
      "    decoder_output_bn                    BatchNormalization                   14\n",
      "________________________________________________________________________________\n",
      "  prediction                             Functional                           66\n",
      "    prediction_block_1                   Functional                           64\n",
      "      prediction_block_1_R1_bn1          BatchNormalization                   32\n",
      "      prediction_block_1_R1_bn2          BatchNormalization                   32\n",
      "    prediction_output_bn                 BatchNormalization                    2\n",
      "________________________________________________________________________________\n"
     ]
    }
   ],
   "source": [
    "collection.summary_trainable(model)"
   ]
  },
  {
   "attachments": {},
   "cell_type": "markdown",
   "metadata": {},
   "source": [
    "and plot the model:\n"
   ]
  },
  {
   "cell_type": "code",
   "execution_count": 10,
   "metadata": {},
   "outputs": [
    {
     "data": {
      "image/png": "[encoded data removed]",
      "text/plain": [
       "<IPython.core.display.Image object>"
      ]
     },
     "execution_count": 10,
     "metadata": {},
     "output_type": "execute_result"
    }
   ],
   "source": [
    "plot_model(model, show_shapes=True, dpi=75, rankdir='LR')"
   ]
  }
 ],
 "metadata": {
  "kernelspec": {
   "display_name": "tensorflow-26",
   "language": "python",
   "name": "python3"
  },
  "language_info": {
   "codemirror_mode": {
    "name": "ipython",
    "version": 3
   },
   "file_extension": ".py",
   "mimetype": "text/x-python",
   "name": "python",
   "nbconvert_exporter": "python",
   "pygments_lexer": "ipython3",
   "version": "3.9.15"
  },
  "orig_nbformat": 4
 },
 "nbformat": 4,
 "nbformat_minor": 2
}
